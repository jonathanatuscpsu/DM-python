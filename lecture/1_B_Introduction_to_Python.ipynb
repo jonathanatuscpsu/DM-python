{
  "cells": [
    {
      "cell_type": "markdown",
      "source": [
        "# **Introduction to Python**\n",
        "\n",
        "Maintainer: Zhaohu(Jonathan) Fan  contact him (fanzh@ucmail.uc.edu)\n",
        "\n",
        "Note: This lab note is still WIP, let us know if you encounter bugs or issues.\n",
        "\n",
        "## 1. Introduction to Python\n",
        "  * 1.1 Powerful Statistical language: Python\n",
        "  * 1.2 Introduce Our Python Integrated Development Environment (IDE): **Colab and Jupyter Notebooks** \n",
        "\n",
        "## 2. Preparations\n",
        "  * 2.1  Download and Installation\n",
        "  * 2.2  Jupter Notbook\n",
        "  \n",
        "## 3. Fundamentals\n",
        "* 3.1 Before Coding\n",
        "* 3.2 Use Python as Calculator\n",
        "* 3.3 Data Structure: List and Data frame\n",
        "* 3.4 Basic Plotting\n",
        "* 3.5 Probability Distributions\n",
        "\n",
        "\n",
        "\n",
        "\n",
        "#### *Colab Notebook [Open in Colab](https://colab.research.google.com/drive/1FbhmCxeDiQdzhB0C9VohRHrvMXYT6Uqx?usp=sharing)*\n",
        "#### *Useful information about [(Introduction to R)](https://yanyudm.github.io/Data-Mining-R/lecture/1.B_IntroR.html)*\n",
        "\n"
      ],
      "metadata": {
        "id": "t1ZkbNmmdLKT"
      }
    },
    {
      "cell_type": "markdown",
      "source": [
        "\n",
        "## 1. Introduction to Python\n",
        "\n",
        "### 1.1 Powerful Statistical language: Python\n",
        "\n",
        "Python is a high-level, dynamically typed multiparadigm programming language. Python code is often said to be almost like pseudocode, since it allows you to express very powerful ideas in very few lines of code while being very readable.\n",
        "\n",
        "*   Python is universal.\n",
        "*   Python can do everything that R can do and much more.\n",
        "*  Python is very easy to learn and program in.\n",
        "\n",
        "\n",
        "*Where is it used?*\n",
        "\n",
        "Due to Python's ubiquity and portability, it is used in various applications like\n",
        "\n",
        "* scientific computing,\n",
        "* data science,\n",
        "* artificial intelligence,\n",
        "* text/data mining,\n",
        "* web and software developments,\n",
        "* task automation and many others.\n",
        "\n",
        "Please visit this [page](https://www.python.org/about/apps/) for more applications of Python.\n"
      ],
      "metadata": {
        "id": "gQvmSjFasmyc"
      }
    },
    {
      "cell_type": "markdown",
      "source": [
        "\n",
        "### 1.2 **Colab and Jupyter Notebooks** \n",
        "\n",
        "**Colab notebook** \n",
        "\n",
        "![alt text](https://repository-images.githubusercontent.com/304608186/0b06d300-5dc1-11eb-9a33-97a745c89ceb)\n",
        "\n",
        "In 2018, Google launched an amazing platform called **‘Google Colaboratory’ (commonly known as ‘Google Colab’ or just ‘Colab’)**. **Colab** is an online cloud based platform based on the Jupyter Notebook framework, designed mainly for use in ML and deep learning operations. \n",
        "\n",
        "**Tensorflow + Keras + Colaboratory = Deep Learning Made Easy** \n",
        "\n",
        "![alt text](https://cdn-images-1.medium.com/max/634/1*-r7EkRUvzkqDyyr2kwdeDg.png)\n",
        "\n",
        "**Colab** offers a free CPU/GPU quota and a preconfigured virtual machine instance set up for to run Tensorflow and Keras libraries using a **Jupyter notebook instance**.\n",
        "\n",
        "\n",
        "<img src=\"https://jupyter.org/assets/share.png\"  width=\"180\" height=\"93\" align=\"left\"> <br>\n",
        "**Jupyter notebook**  lets you write and execute Python code locally in your web browser. Jupyter notebooks make it very easy to tinker with code and execute it in bits and pieces; for this reason they are widely used in scientific computing.\n",
        "\n"
      ],
      "metadata": {
        "id": "Wxabzvf5sx3-"
      }
    },
    {
      "cell_type": "markdown",
      "source": [
        "## 2. Preparations\n",
        "  * 2.1  How to use Google Colab\n",
        "  * 2.2  Jupter Notbook (optional)\n",
        "\n",
        "\n"
      ],
      "metadata": {
        "id": "3XQBoZiLsu1a"
      }
    },
    {
      "cell_type": "markdown",
      "source": [
        "**2.1 How to use Google Colab**\n",
        "\n",
        "\n",
        "  Note: *Useful intro about [Colab](https://colab.research.google.com/notebooks/welcome.ipynb)*\n",
        "\n"
      ],
      "metadata": {
        "id": "rEogWsweJNzt"
      }
    },
    {
      "cell_type": "markdown",
      "source": [
        "To start using Google Colab, you first have to log in to your Google account. Then click [here](https://colab.research.google.com/)\n",
        "to go to Google Colab’s home page.\n",
        "\n",
        "The home screen of Google Colab will look like:\n",
        "\n",
        "![alt text](https://www.educative.io/api/edpresso/shot/5329223787479040/image/6706561750138880)\n",
        "\n"
      ],
      "metadata": {
        "id": "ORAQWiMwwHFW"
      }
    },
    {
      "cell_type": "markdown",
      "source": [
        "To open a new Python notebook, click ‘new notebook’ on the bottom right corner.\n",
        "\n",
        "The opened notebook will look like:\n",
        "\n",
        "\n",
        "![alt text](https://www.educative.io/api/edpresso/shot/5329223787479040/image/6728180149256192)\n",
        "\n"
      ],
      "metadata": {
        "id": "lvTQr427wkTk"
      }
    },
    {
      "cell_type": "markdown",
      "source": [
        "A notebook named `untitled0.iypnb` is then created and automatically saved to your google drive.\n",
        "\n",
        "Once it’s created, change the runtime by selecting changing runtime from runtime dropbox. Select Python 3 from the `runtime type` dropdown menu.\n",
        "\n",
        "Now your notebook is ready to use!"
      ],
      "metadata": {
        "id": "uXlPS-LKwsVf"
      }
    },
    {
      "cell_type": "markdown",
      "source": [
        "* **Checking Python Version**"
      ],
      "metadata": {
        "id": "3Uqe60-Nw5aK"
      }
    },
    {
      "cell_type": "code",
      "source": [
        "import sys              #only needed to determine Python version number\n",
        "print('Python version ' + sys.version)"
      ],
      "metadata": {
        "colab": {
          "base_uri": "https://localhost:8080/"
        },
        "id": "d_4K2Z61Ks-H",
        "outputId": "e3031509-af0a-4545-c3d2-e41c95431775"
      },
      "execution_count": null,
      "outputs": [
        {
          "output_type": "stream",
          "name": "stdout",
          "text": [
            "Python version 3.7.13 (default, Mar 16 2022, 17:37:17) \n",
            "[GCC 7.5.0]\n"
          ]
        }
      ]
    },
    {
      "cell_type": "markdown",
      "source": [
        "You can check your Python version at the command line by running python `--version`"
      ],
      "metadata": {
        "id": "Xze_egV7IoSS"
      }
    },
    {
      "cell_type": "code",
      "source": [
        "!python --version"
      ],
      "metadata": {
        "colab": {
          "base_uri": "https://localhost:8080/"
        },
        "id": "JCQSNZd6hf7z",
        "outputId": "6f524ff7-4bda-4332-a565-05beb9dc17a2"
      },
      "execution_count": null,
      "outputs": [
        {
          "output_type": "stream",
          "name": "stdout",
          "text": [
            "Python 3.7.13\n"
          ]
        }
      ]
    },
    {
      "cell_type": "markdown",
      "source": [
        "\n",
        "* Run **Python**  in Colab Notebook\n",
        "\n",
        "Enter the Hello World program and run it. Python is case-sensitive."
      ],
      "metadata": {
        "id": "JpT5XOAbP6zj"
      }
    },
    {
      "cell_type": "code",
      "source": [
        "print(\"Hello, world!\")"
      ],
      "metadata": {
        "colab": {
          "base_uri": "https://localhost:8080/"
        },
        "id": "JXB3tRTlP8FR",
        "outputId": "dab5b0aa-9b12-43a9-a102-b480efa7fc88"
      },
      "execution_count": null,
      "outputs": [
        {
          "output_type": "stream",
          "name": "stdout",
          "text": [
            "Hello, world!\n"
          ]
        }
      ]
    },
    {
      "cell_type": "markdown",
      "source": [
        "\n",
        "* **Importing a library that is not in Colaboratory**\n",
        "\n",
        "Most packages are included in the Colab that you installed.\n",
        "However, you will have to install other packages not included in Colab.\n",
        "To do this you will the `!pip install <package-name>` syntax in your Colab\n",
        "notebook:\n",
        "\n",
        "```\n",
        "# Install twitter package\n",
        "!pip install tweepy\n",
        "!pip install nltk\n",
        "\n",
        "import tweepy\n",
        "tweepy nltk\n",
        "```"
      ],
      "metadata": {
        "id": "NBCJV22WsvH1"
      }
    },
    {
      "cell_type": "markdown",
      "source": [
        "`pip` is the keyword that is used to install missing libraries/packages in Python.  \n",
        "  Note: Useful intro about [`pip`](https://pip.pypa.io/en/stable/getting-started/)\n"
      ],
      "metadata": {
        "id": "4Xfx5u9vHF5R"
      }
    },
    {
      "cell_type": "markdown",
      "source": [
        "\n",
        "2.2 **Jupter Notbook (optional)**\n",
        "\n",
        "**Which version of Python to use? Anaconda Version of Python has all the packages that we need.** Anaconda distribution is a collection of Spyder, Jupyter Notebook, RStudio, and other commonly used scientific computing and data science tools. It is recommended for all the beginners to install Anaconda.\n",
        "\n",
        "**Step 1.**Download and install Anaconda Python 3.7+ for your operating system here: https://www.anaconda.com/products/individual\n",
        "\n",
        "\n",
        "Click Next >I agree> (Just Me) Next>(Choose destination folder ) next>(Register Anaconda as my default Python 3.X.XX)  Install>Finish\n",
        "\n",
        "<a >\n",
        "    <img src=\"https://miro.medium.com/max/1236/1*N9hgsFb10bJ_2EXBBYeQLw.png\"  width=\" 618\" height=\"471\" align=\"center\">\n",
        "</a>\n",
        "\n",
        "\n",
        "**After installation, launch the Anaconda Navigator, Jupyter Notebook, then create a Python 3 Notebook instance.**\n",
        "\n",
        "\n",
        "Then, click the Launch button below the **Jupyter Notebook** icon on the Navigator Home tab:\n",
        "<a >\n",
        "    <img src=\"https://miro.medium.com/max/963/1*CrzFvh-ha0mkhUrA3q786A.png\" width=\" 963\" height=\"730\" align=\"center\">\n",
        "</a>\n",
        "\n",
        "More info: https://docs.anaconda.com/anaconda/user-guide/getting-started/\n",
        "\n",
        "\n",
        "\n",
        "\n",
        "\n",
        "\n"
      ],
      "metadata": {
        "id": "1bnK4lv5LbLW"
      }
    },
    {
      "cell_type": "markdown",
      "source": [
        "\n",
        "  **Step 2.** Figure out how to open a python shell in your environment. Test the Hello World program there. In Windows, it's probably as easy as running 'python' from the Windows menu. You'll have to verify that and troubleshoot it.\n",
        "\n"
      ],
      "metadata": {
        "id": "ZyYtYwGpVeXd"
      }
    },
    {
      "cell_type": "markdown",
      "source": [
        "**Checking Python Version**\n",
        "\n",
        "You can double-check your Python version at the command line after activating your environment by running <code>python --version</code>. For example, to check which version you are using, drop into Anaconda's terminal and type `python --version`.\n",
        "\n",
        "* on my **Windows** box, I open `Anaconda Prompt` and type in:\n",
        "```\n",
        "(base) C:\\Users\\XXXXX>python --version\n",
        "Python 3.7.13 :: Anaconda, Inc.\n",
        "```\n",
        "\n",
        "* On my **Mac**, I open iTerm and type in:\n",
        "```\n",
        "~XXXXX$ python --version\n",
        "Python 3.7.13 :: Anaconda, Inc.\n",
        "```"
      ],
      "metadata": {
        "id": "rDkxKZj2tgFi"
      }
    },
    {
      "cell_type": "markdown",
      "source": [
        "**Accessing help**\n",
        "\n",
        "Help in python on any topic involves\n",
        "\n"
      ],
      "metadata": {
        "id": "Sc4XrUOk9mnJ"
      }
    },
    {
      "cell_type": "code",
      "source": [
        "#Python help - This can be done on a (I)Python console\n",
        "help(len)\n",
        "?len"
      ],
      "metadata": {
        "colab": {
          "base_uri": "https://localhost:8080/"
        },
        "id": "EdJO2jos9_I8",
        "outputId": "c1bd33f0-1d05-40e1-ce00-4d3a392e552f"
      },
      "execution_count": null,
      "outputs": [
        {
          "output_type": "stream",
          "name": "stdout",
          "text": [
            "Help on built-in function len in module builtins:\n",
            "\n",
            "len(obj, /)\n",
            "    Return the number of items in a container.\n",
            "\n"
          ]
        }
      ]
    },
    {
      "cell_type": "markdown",
      "source": [
        "# 3. Fundamentals\n"
      ],
      "metadata": {
        "id": "Q5u29E4ETyFM"
      }
    },
    {
      "cell_type": "markdown",
      "source": [
        "## 3.1 Before Coding\n",
        "\n",
        "  * To start using Google Colab, you first have to log in to your Google account.\n",
        "  * To open a new Python notebook, click ‘new notebook’ on the bottom right corner.\n",
        "  * Rename a nnotebook named `untitled0.iypnb`\n",
        "  * Now your notebook is ready to use."
      ],
      "metadata": {
        "id": "XSHuCly7T2tB"
      }
    },
    {
      "cell_type": "markdown",
      "source": [
        "## 3.2 Use Python as Calculator\n"
      ],
      "metadata": {
        "id": "lXUkx_Z-LR4k"
      }
    },
    {
      "cell_type": "code",
      "source": [
        "x=10\n",
        "y = 5\n",
        "x+y"
      ],
      "metadata": {
        "colab": {
          "base_uri": "https://localhost:8080/"
        },
        "id": "iWTFqKWL8HJu",
        "outputId": "e36fee47-70a5-4376-8648-721a1d37326d"
      },
      "execution_count": null,
      "outputs": [
        {
          "output_type": "execute_result",
          "data": {
            "text/plain": [
              "15"
            ]
          },
          "metadata": {},
          "execution_count": 40
        }
      ]
    },
    {
      "cell_type": "code",
      "source": [
        "# Python program explaining\n",
        "# log() function\n",
        "import numpy as np\n",
        "out = np.log(10)\n",
        "print (round(out,6))"
      ],
      "metadata": {
        "id": "d4IzuoyV9Tl8",
        "colab": {
          "base_uri": "https://localhost:8080/"
        },
        "outputId": "66313a04-a90d-4601-fecb-dce99b8d9bac"
      },
      "execution_count": null,
      "outputs": [
        {
          "output_type": "stream",
          "name": "stdout",
          "text": [
            "2.302585\n"
          ]
        }
      ]
    },
    {
      "cell_type": "code",
      "source": [
        "# importing \"math\" for mathematical operations \n",
        "import math"
      ],
      "metadata": {
        "id": "Z3jlG_KB8orD"
      },
      "execution_count": null,
      "outputs": []
    },
    {
      "cell_type": "code",
      "source": [
        "# Printing the log base 10 of 10\n",
        "print (\"Logarithm base 10 of 10 is : \", end=\"\")\n",
        "print (math.log10(10))"
      ],
      "metadata": {
        "colab": {
          "base_uri": "https://localhost:8080/"
        },
        "id": "T-dyV5Yh8LjC",
        "outputId": "fa0cda68-7820-42e1-a75f-b7c8f91ee63f"
      },
      "execution_count": null,
      "outputs": [
        {
          "output_type": "stream",
          "name": "stdout",
          "text": [
            "Logarithm base 10 of 10 is : 1.0\n"
          ]
        }
      ]
    },
    {
      "cell_type": "code",
      "source": [
        "exponent =5\n",
        "out = math.exp(exponent)\n",
        "print (round(out,4))"
      ],
      "metadata": {
        "colab": {
          "base_uri": "https://localhost:8080/"
        },
        "id": "G1Fih3jWSL72",
        "outputId": "f1e876eb-5ac9-4d29-da5d-1cf57bd379a5"
      },
      "execution_count": null,
      "outputs": [
        {
          "output_type": "stream",
          "name": "stdout",
          "text": [
            "148.4132\n"
          ]
        }
      ]
    },
    {
      "cell_type": "code",
      "source": [
        "# Python code to demonstrate the working of cos()\n",
        "x=10\n",
        "out=math.cos(x)\n",
        "print (round(out,6))"
      ],
      "metadata": {
        "id": "CkROp1ib8Q4O",
        "colab": {
          "base_uri": "https://localhost:8080/"
        },
        "outputId": "9e8da56d-1a65-4139-9294-5b3a4a310eda"
      },
      "execution_count": null,
      "outputs": [
        {
          "output_type": "stream",
          "name": "stdout",
          "text": [
            "-0.839072\n"
          ]
        }
      ]
    },
    {
      "cell_type": "markdown",
      "source": [
        "**Booleans**: Python implements all of the usual operators for Boolean logic, but uses English words rather than symbols (==, >, <,&&, ||, etc.):"
      ],
      "metadata": {
        "id": "JM34S_q-8oUV"
      }
    },
    {
      "cell_type": "code",
      "source": [
        "x==y"
      ],
      "metadata": {
        "colab": {
          "base_uri": "https://localhost:8080/"
        },
        "id": "9AKpijqE8SPO",
        "outputId": "c9497a20-f6cc-4249-abd5-61a692142712"
      },
      "execution_count": null,
      "outputs": [
        {
          "output_type": "execute_result",
          "data": {
            "text/plain": [
              "False"
            ]
          },
          "metadata": {},
          "execution_count": 46
        }
      ]
    },
    {
      "cell_type": "code",
      "source": [
        "x>y"
      ],
      "metadata": {
        "colab": {
          "base_uri": "https://localhost:8080/"
        },
        "id": "EGAIkGyO8U4_",
        "outputId": "fd9f5fd1-5dc6-4168-c34a-0e61441a60d0"
      },
      "execution_count": null,
      "outputs": [
        {
          "output_type": "execute_result",
          "data": {
            "text/plain": [
              "True"
            ]
          },
          "metadata": {},
          "execution_count": 47
        }
      ]
    },
    {
      "cell_type": "markdown",
      "source": [
        "## 3.3 Data Structure: List and Data frame\n",
        "\n",
        "\n"
      ],
      "metadata": {
        "id": "giEvE-c3TF5u"
      }
    },
    {
      "cell_type": "markdown",
      "source": [
        "### 3.3.1 List\n",
        "A **list** is the Python equivalent of an array, but is resizeable and can contain elements of different types.\n",
        "\n",
        "A common data type in R is the vector. Python has a similar data type, the list.\n",
        "**In Python, vector is a single one-dimension array of lists and behaves same as a Python list.**\n",
        "\n",
        "\n",
        "R vs Python: Different similarities and similar difference\n",
        "\n"
      ],
      "metadata": {
        "id": "xPgIwcGV5zLd"
      }
    },
    {
      "cell_type": "code",
      "source": [
        "# Python lists\n",
        "a=[4,5,1,3,4,5] \n",
        "print(a[2]) \n",
        "print(a[2:5])\n",
        "print(type(a))\n",
        "# Length of a\n",
        "print(len(a))"
      ],
      "metadata": {
        "colab": {
          "base_uri": "https://localhost:8080/"
        },
        "id": "QH52ZQyp-j4P",
        "outputId": "f359f167-e2d0-4de6-d0cd-ec7d5c592364"
      },
      "execution_count": null,
      "outputs": [
        {
          "output_type": "stream",
          "name": "stdout",
          "text": [
            "1\n",
            "[1, 3, 4]\n",
            "<class 'list'>\n",
            "6\n"
          ]
        }
      ]
    },
    {
      "cell_type": "code",
      "source": [
        "xs = [3, 1, 2]   # Create a list\n",
        "print(xs, xs[2])  # Prints \"[3, 1, 2] 2\"\n",
        "print(xs[-1])     # Negative indices count from the end of the list; prints \"2\""
      ],
      "metadata": {
        "colab": {
          "base_uri": "https://localhost:8080/"
        },
        "id": "CPf8YWHJiXEk",
        "outputId": "34450360-79aa-4016-d224-d0a1c3c860c6"
      },
      "execution_count": null,
      "outputs": [
        {
          "output_type": "stream",
          "name": "stdout",
          "text": [
            "[3, 1, 2] 2\n",
            "2\n"
          ]
        }
      ]
    },
    {
      "cell_type": "code",
      "source": [
        "xs[2] = 'foo'    # Lists can contain elements of different types\n",
        "print(xs)         # Prints \"[3, 1, 'foo']\""
      ],
      "metadata": {
        "colab": {
          "base_uri": "https://localhost:8080/"
        },
        "id": "M1Bq4YwWidHd",
        "outputId": "838759d5-d4e4-43b9-b77f-867c37a877bf"
      },
      "execution_count": null,
      "outputs": [
        {
          "output_type": "stream",
          "name": "stdout",
          "text": [
            "[3, 1, 'foo']\n"
          ]
        }
      ]
    },
    {
      "cell_type": "code",
      "source": [
        "xs.append('bar') # Add a new element to the end of the list\n",
        "print(xs)   # Prints \"[3, 1, 'foo', 'bar']\""
      ],
      "metadata": {
        "colab": {
          "base_uri": "https://localhost:8080/"
        },
        "id": "zdfzlsPgifiM",
        "outputId": "586e4368-f474-44f6-8e80-a89e169a0671"
      },
      "execution_count": null,
      "outputs": [
        {
          "output_type": "stream",
          "name": "stdout",
          "text": [
            "[3, 1, 'foo', 'bar']\n"
          ]
        }
      ]
    },
    {
      "cell_type": "code",
      "source": [
        "x = xs.pop()     # Remove and return the last element of the list\n",
        "print(x, xs)      # Prints \"bar [3, 1, 'foo']\""
      ],
      "metadata": {
        "colab": {
          "base_uri": "https://localhost:8080/"
        },
        "id": "7LuYAdGFijif",
        "outputId": "2f69132c-e2e5-4823-bf6e-34a5ca638165"
      },
      "execution_count": null,
      "outputs": [
        {
          "output_type": "stream",
          "name": "stdout",
          "text": [
            "bar [3, 1, 'foo']\n"
          ]
        }
      ]
    },
    {
      "cell_type": "markdown",
      "source": [
        "```\n",
        "mylist=[x, xs, cars]\n",
        "mylist\n",
        "```"
      ],
      "metadata": {
        "id": "nfmUsXTb3vlO"
      }
    },
    {
      "cell_type": "markdown",
      "source": [
        "More info: https://docs.python.org/3.5/tutorial/datastructures.html#more-on-lists"
      ],
      "metadata": {
        "id": "Lo7rlJkO6EOI"
      }
    },
    {
      "cell_type": "markdown",
      "source": [
        "**Slicing**: In addition to accessing list elements one at a time, Python provides concise syntax to access sublists; this is known as slicing:"
      ],
      "metadata": {
        "id": "w_lleTXI8REg"
      }
    },
    {
      "cell_type": "code",
      "source": [
        "nums = list(range(5))     # range is a built-in function that creates a list of integers\n",
        "print(nums)               # Prints \"[0, 1, 2, 3, 4]\"\n",
        "print(nums[2:4])          # Get a slice from index 2 to 4 (exclusive); prints \"[2, 3]\"\n",
        "print(nums[2:])           # Get a slice from index 2 to the end; prints \"[2, 3, 4]\"\n",
        "print(nums[:2])           # Get a slice from the start to index 2 (exclusive); prints \"[0, 1]\"\n",
        "print(nums[:])            # Get a slice of the whole list; prints \"[0, 1, 2, 3, 4]\"\n",
        "print(nums[:-1])          # Slice indices can be negative; prints \"[0, 1, 2, 3]\"\n",
        "nums[2:4] = [8, 9]        # Assign a new sublist to a slice\n",
        "print(nums)   "
      ],
      "metadata": {
        "id": "ET0y_qw38MwN",
        "colab": {
          "base_uri": "https://localhost:8080/"
        },
        "outputId": "3c605b49-696b-42c8-bd75-1c47b75b17c5"
      },
      "execution_count": null,
      "outputs": [
        {
          "output_type": "stream",
          "name": "stdout",
          "text": [
            "[0, 1, 2, 3, 4]\n",
            "[2, 3]\n",
            "[2, 3, 4]\n",
            "[0, 1]\n",
            "[0, 1, 2, 3, 4]\n",
            "[0, 1, 2, 3]\n",
            "[0, 1, 8, 9, 4]\n"
          ]
        }
      ]
    },
    {
      "cell_type": "code",
      "source": [
        "import numpy as np\n",
        "a =[5,2,3,1,7]\n",
        "b =[1,5,4,6,8]\n",
        "a=np.array(a)\n",
        "b=np.array(b)\n",
        "#Element wise addition\n",
        "print(a+b)\n",
        "#Element wise subtraction\n",
        "print(a-b)\n",
        "#Element wise product\n",
        "print(a*b)\n",
        "# Exponentiating the elements of a list\n",
        "print(a**2)"
      ],
      "metadata": {
        "colab": {
          "base_uri": "https://localhost:8080/"
        },
        "id": "ym3m2zgy82vv",
        "outputId": "787686bf-aa66-4388-dc2a-630ea750e6df"
      },
      "execution_count": null,
      "outputs": [
        {
          "output_type": "stream",
          "name": "stdout",
          "text": [
            "[ 6  7  7  7 15]\n",
            "[ 4 -3 -1 -5 -1]\n",
            "[ 5 10 12  6 56]\n",
            "[25  4  9  1 49]\n"
          ]
        }
      ]
    },
    {
      "cell_type": "markdown",
      "source": [
        "### 3.3.2 Data frames\n",
        "\n",
        "For Python we need to use the Pandas package. Pandas is quite comprehensive in the list of things we can do with data frames The most common operations on a dataframe are\n",
        "\n",
        "* Check the size of the dataframe\n",
        "* Take a look at the top 5 or bottom 5 rows of dataframe\n",
        "* Check the content of the dataframe"
      ],
      "metadata": {
        "id": "L2SBn13ri9S1"
      }
    },
    {
      "cell_type": "code",
      "source": [
        "#Python\n",
        "import sklearn as sklearn\n",
        "import pandas as pd\n",
        "from sklearn import datasets\n",
        "# This creates a Sklearn bunch\n",
        "data = datasets.load_iris()\n",
        "# Convert to Pandas dataframe\n",
        "iris = pd.DataFrame(data.data, columns=data.feature_names)\n",
        "iris"
      ],
      "metadata": {
        "colab": {
          "base_uri": "https://localhost:8080/",
          "height": 424
        },
        "id": "Vnclng_E9GSs",
        "outputId": "b27e108e-f537-4f0b-9d9f-8411e8eed19e"
      },
      "execution_count": null,
      "outputs": [
        {
          "output_type": "execute_result",
          "data": {
            "text/plain": [
              "     sepal length (cm)  sepal width (cm)  petal length (cm)  petal width (cm)\n",
              "0                  5.1               3.5                1.4               0.2\n",
              "1                  4.9               3.0                1.4               0.2\n",
              "2                  4.7               3.2                1.3               0.2\n",
              "3                  4.6               3.1                1.5               0.2\n",
              "4                  5.0               3.6                1.4               0.2\n",
              "..                 ...               ...                ...               ...\n",
              "145                6.7               3.0                5.2               2.3\n",
              "146                6.3               2.5                5.0               1.9\n",
              "147                6.5               3.0                5.2               2.0\n",
              "148                6.2               3.4                5.4               2.3\n",
              "149                5.9               3.0                5.1               1.8\n",
              "\n",
              "[150 rows x 4 columns]"
            ],
            "text/html": [
              "\n",
              "  <div id=\"df-2ac05d64-b8cd-42d9-b600-466870ec5378\">\n",
              "    <div class=\"colab-df-container\">\n",
              "      <div>\n",
              "<style scoped>\n",
              "    .dataframe tbody tr th:only-of-type {\n",
              "        vertical-align: middle;\n",
              "    }\n",
              "\n",
              "    .dataframe tbody tr th {\n",
              "        vertical-align: top;\n",
              "    }\n",
              "\n",
              "    .dataframe thead th {\n",
              "        text-align: right;\n",
              "    }\n",
              "</style>\n",
              "<table border=\"1\" class=\"dataframe\">\n",
              "  <thead>\n",
              "    <tr style=\"text-align: right;\">\n",
              "      <th></th>\n",
              "      <th>sepal length (cm)</th>\n",
              "      <th>sepal width (cm)</th>\n",
              "      <th>petal length (cm)</th>\n",
              "      <th>petal width (cm)</th>\n",
              "    </tr>\n",
              "  </thead>\n",
              "  <tbody>\n",
              "    <tr>\n",
              "      <th>0</th>\n",
              "      <td>5.1</td>\n",
              "      <td>3.5</td>\n",
              "      <td>1.4</td>\n",
              "      <td>0.2</td>\n",
              "    </tr>\n",
              "    <tr>\n",
              "      <th>1</th>\n",
              "      <td>4.9</td>\n",
              "      <td>3.0</td>\n",
              "      <td>1.4</td>\n",
              "      <td>0.2</td>\n",
              "    </tr>\n",
              "    <tr>\n",
              "      <th>2</th>\n",
              "      <td>4.7</td>\n",
              "      <td>3.2</td>\n",
              "      <td>1.3</td>\n",
              "      <td>0.2</td>\n",
              "    </tr>\n",
              "    <tr>\n",
              "      <th>3</th>\n",
              "      <td>4.6</td>\n",
              "      <td>3.1</td>\n",
              "      <td>1.5</td>\n",
              "      <td>0.2</td>\n",
              "    </tr>\n",
              "    <tr>\n",
              "      <th>4</th>\n",
              "      <td>5.0</td>\n",
              "      <td>3.6</td>\n",
              "      <td>1.4</td>\n",
              "      <td>0.2</td>\n",
              "    </tr>\n",
              "    <tr>\n",
              "      <th>...</th>\n",
              "      <td>...</td>\n",
              "      <td>...</td>\n",
              "      <td>...</td>\n",
              "      <td>...</td>\n",
              "    </tr>\n",
              "    <tr>\n",
              "      <th>145</th>\n",
              "      <td>6.7</td>\n",
              "      <td>3.0</td>\n",
              "      <td>5.2</td>\n",
              "      <td>2.3</td>\n",
              "    </tr>\n",
              "    <tr>\n",
              "      <th>146</th>\n",
              "      <td>6.3</td>\n",
              "      <td>2.5</td>\n",
              "      <td>5.0</td>\n",
              "      <td>1.9</td>\n",
              "    </tr>\n",
              "    <tr>\n",
              "      <th>147</th>\n",
              "      <td>6.5</td>\n",
              "      <td>3.0</td>\n",
              "      <td>5.2</td>\n",
              "      <td>2.0</td>\n",
              "    </tr>\n",
              "    <tr>\n",
              "      <th>148</th>\n",
              "      <td>6.2</td>\n",
              "      <td>3.4</td>\n",
              "      <td>5.4</td>\n",
              "      <td>2.3</td>\n",
              "    </tr>\n",
              "    <tr>\n",
              "      <th>149</th>\n",
              "      <td>5.9</td>\n",
              "      <td>3.0</td>\n",
              "      <td>5.1</td>\n",
              "      <td>1.8</td>\n",
              "    </tr>\n",
              "  </tbody>\n",
              "</table>\n",
              "<p>150 rows × 4 columns</p>\n",
              "</div>\n",
              "      <button class=\"colab-df-convert\" onclick=\"convertToInteractive('df-2ac05d64-b8cd-42d9-b600-466870ec5378')\"\n",
              "              title=\"Convert this dataframe to an interactive table.\"\n",
              "              style=\"display:none;\">\n",
              "        \n",
              "  <svg xmlns=\"http://www.w3.org/2000/svg\" height=\"24px\"viewBox=\"0 0 24 24\"\n",
              "       width=\"24px\">\n",
              "    <path d=\"M0 0h24v24H0V0z\" fill=\"none\"/>\n",
              "    <path d=\"M18.56 5.44l.94 2.06.94-2.06 2.06-.94-2.06-.94-.94-2.06-.94 2.06-2.06.94zm-11 1L8.5 8.5l.94-2.06 2.06-.94-2.06-.94L8.5 2.5l-.94 2.06-2.06.94zm10 10l.94 2.06.94-2.06 2.06-.94-2.06-.94-.94-2.06-.94 2.06-2.06.94z\"/><path d=\"M17.41 7.96l-1.37-1.37c-.4-.4-.92-.59-1.43-.59-.52 0-1.04.2-1.43.59L10.3 9.45l-7.72 7.72c-.78.78-.78 2.05 0 2.83L4 21.41c.39.39.9.59 1.41.59.51 0 1.02-.2 1.41-.59l7.78-7.78 2.81-2.81c.8-.78.8-2.07 0-2.86zM5.41 20L4 18.59l7.72-7.72 1.47 1.35L5.41 20z\"/>\n",
              "  </svg>\n",
              "      </button>\n",
              "      \n",
              "  <style>\n",
              "    .colab-df-container {\n",
              "      display:flex;\n",
              "      flex-wrap:wrap;\n",
              "      gap: 12px;\n",
              "    }\n",
              "\n",
              "    .colab-df-convert {\n",
              "      background-color: #E8F0FE;\n",
              "      border: none;\n",
              "      border-radius: 50%;\n",
              "      cursor: pointer;\n",
              "      display: none;\n",
              "      fill: #1967D2;\n",
              "      height: 32px;\n",
              "      padding: 0 0 0 0;\n",
              "      width: 32px;\n",
              "    }\n",
              "\n",
              "    .colab-df-convert:hover {\n",
              "      background-color: #E2EBFA;\n",
              "      box-shadow: 0px 1px 2px rgba(60, 64, 67, 0.3), 0px 1px 3px 1px rgba(60, 64, 67, 0.15);\n",
              "      fill: #174EA6;\n",
              "    }\n",
              "\n",
              "    [theme=dark] .colab-df-convert {\n",
              "      background-color: #3B4455;\n",
              "      fill: #D2E3FC;\n",
              "    }\n",
              "\n",
              "    [theme=dark] .colab-df-convert:hover {\n",
              "      background-color: #434B5C;\n",
              "      box-shadow: 0px 1px 3px 1px rgba(0, 0, 0, 0.15);\n",
              "      filter: drop-shadow(0px 1px 2px rgba(0, 0, 0, 0.3));\n",
              "      fill: #FFFFFF;\n",
              "    }\n",
              "  </style>\n",
              "\n",
              "      <script>\n",
              "        const buttonEl =\n",
              "          document.querySelector('#df-2ac05d64-b8cd-42d9-b600-466870ec5378 button.colab-df-convert');\n",
              "        buttonEl.style.display =\n",
              "          google.colab.kernel.accessAllowed ? 'block' : 'none';\n",
              "\n",
              "        async function convertToInteractive(key) {\n",
              "          const element = document.querySelector('#df-2ac05d64-b8cd-42d9-b600-466870ec5378');\n",
              "          const dataTable =\n",
              "            await google.colab.kernel.invokeFunction('convertToInteractive',\n",
              "                                                     [key], {});\n",
              "          if (!dataTable) return;\n",
              "\n",
              "          const docLinkHtml = 'Like what you see? Visit the ' +\n",
              "            '<a target=\"_blank\" href=https://colab.research.google.com/notebooks/data_table.ipynb>data table notebook</a>'\n",
              "            + ' to learn more about interactive tables.';\n",
              "          element.innerHTML = '';\n",
              "          dataTable['output_type'] = 'display_data';\n",
              "          await google.colab.output.renderOutput(dataTable, element);\n",
              "          const docLink = document.createElement('div');\n",
              "          docLink.innerHTML = docLinkHtml;\n",
              "          element.appendChild(docLink);\n",
              "        }\n",
              "      </script>\n",
              "    </div>\n",
              "  </div>\n",
              "  "
            ]
          },
          "metadata": {},
          "execution_count": 55
        }
      ]
    },
    {
      "cell_type": "markdown",
      "source": [
        "**a. Size**\n",
        "\n",
        "For Python use .shape\n",
        "\n"
      ],
      "metadata": {
        "id": "JZdFoz8WjZ_L"
      }
    },
    {
      "cell_type": "code",
      "source": [
        "#Python - size\n",
        "import sklearn as sklearn\n",
        "import pandas as pd\n",
        "from sklearn import datasets\n",
        "data = datasets.load_iris()\n",
        "# Convert to Pandas dataframe\n",
        "iris = pd.DataFrame(data.data, columns=data.feature_names)\n",
        "iris.shape"
      ],
      "metadata": {
        "colab": {
          "base_uri": "https://localhost:8080/"
        },
        "id": "zgQsy2vPjRPw",
        "outputId": "16aec339-211f-48af-d4fa-0f6182d26958"
      },
      "execution_count": null,
      "outputs": [
        {
          "output_type": "execute_result",
          "data": {
            "text/plain": [
              "(150, 4)"
            ]
          },
          "metadata": {},
          "execution_count": 56
        }
      ]
    },
    {
      "cell_type": "markdown",
      "source": [
        "**b. Top & bottom 5 rows of dataframe**\n",
        "\n",
        "To know the top and bottom rows of a data frame we use head() & tail as shown below for Python"
      ],
      "metadata": {
        "id": "TxNhf49NjeaM"
      }
    },
    {
      "cell_type": "code",
      "source": [
        "#Python\n",
        "data = datasets.load_iris()\n",
        "# Convert to Pandas dataframe\n",
        "iris = pd.DataFrame(data.data, columns=data.feature_names)\n",
        "print(iris.head(5))\n",
        "print(iris.tail(5))"
      ],
      "metadata": {
        "colab": {
          "base_uri": "https://localhost:8080/"
        },
        "id": "SufVCl-OjhKS",
        "outputId": "ced5a0cf-10f6-4b0f-f8a6-5e3250b4f15e"
      },
      "execution_count": null,
      "outputs": [
        {
          "output_type": "stream",
          "name": "stdout",
          "text": [
            "   sepal length (cm)  sepal width (cm)  petal length (cm)  petal width (cm)\n",
            "0                5.1               3.5                1.4               0.2\n",
            "1                4.9               3.0                1.4               0.2\n",
            "2                4.7               3.2                1.3               0.2\n",
            "3                4.6               3.1                1.5               0.2\n",
            "4                5.0               3.6                1.4               0.2\n",
            "     sepal length (cm)  sepal width (cm)  petal length (cm)  petal width (cm)\n",
            "145                6.7               3.0                5.2               2.3\n",
            "146                6.3               2.5                5.0               1.9\n",
            "147                6.5               3.0                5.2               2.0\n",
            "148                6.2               3.4                5.4               2.3\n",
            "149                5.9               3.0                5.1               1.8\n"
          ]
        }
      ]
    },
    {
      "cell_type": "markdown",
      "source": [
        "**c. Check the content of the dataframe**"
      ],
      "metadata": {
        "id": "Df99N4PujjTa"
      }
    },
    {
      "cell_type": "code",
      "source": [
        "#Python\n",
        "data = datasets.load_iris()\n",
        "# Convert to Pandas dataframe\n",
        "iris = pd.DataFrame(data.data, columns=data.feature_names)\n",
        "print(iris.info())"
      ],
      "metadata": {
        "colab": {
          "base_uri": "https://localhost:8080/"
        },
        "id": "rHuaixgljlNA",
        "outputId": "f0c02318-80c1-4204-c223-aebcc0a45f76"
      },
      "execution_count": null,
      "outputs": [
        {
          "output_type": "stream",
          "name": "stdout",
          "text": [
            "<class 'pandas.core.frame.DataFrame'>\n",
            "RangeIndex: 150 entries, 0 to 149\n",
            "Data columns (total 4 columns):\n",
            " #   Column             Non-Null Count  Dtype  \n",
            "---  ------             --------------  -----  \n",
            " 0   sepal length (cm)  150 non-null    float64\n",
            " 1   sepal width (cm)   150 non-null    float64\n",
            " 2   petal length (cm)  150 non-null    float64\n",
            " 3   petal width (cm)   150 non-null    float64\n",
            "dtypes: float64(4)\n",
            "memory usage: 4.8 KB\n",
            "None\n"
          ]
        }
      ]
    },
    {
      "cell_type": "markdown",
      "source": [
        "**d. Check column names**\n"
      ],
      "metadata": {
        "id": "UPw7i3Qtjmv0"
      }
    },
    {
      "cell_type": "code",
      "source": [
        "#Python\n",
        "data = datasets.load_iris()\n",
        "# Convert to Pandas dataframe\n",
        "iris = pd.DataFrame(data.data, columns=data.feature_names)\n",
        "#Get column names\n",
        "print(iris.columns)\n",
        "## Index(['sepal length "
      ],
      "metadata": {
        "colab": {
          "base_uri": "https://localhost:8080/"
        },
        "id": "8W6ayeo1jo6v",
        "outputId": "a8edc237-91f8-4e0b-bc7a-e7f8bb9f35ef"
      },
      "execution_count": null,
      "outputs": [
        {
          "output_type": "stream",
          "name": "stdout",
          "text": [
            "Index(['sepal length (cm)', 'sepal width (cm)', 'petal length (cm)',\n",
            "       'petal width (cm)'],\n",
            "      dtype='object')\n"
          ]
        }
      ]
    },
    {
      "cell_type": "markdown",
      "source": [
        "**e. Rename columns**\n",
        "\n",
        "In Python we can assign a list to s.columns"
      ],
      "metadata": {
        "id": "RbSLxxUvjtYJ"
      }
    },
    {
      "cell_type": "code",
      "source": [
        "#Python\n",
        "data = datasets.load_iris()\n",
        "# Convert to Pandas dataframe\n",
        "iris = pd.DataFrame(data.data, columns=data.feature_names)\n",
        "iris.columns = [\"lengthOfSepal\",\"widthOfSepal\",\"lengthOfPetal\",\"widthOfPetal\"]\n",
        "print(iris.columns)"
      ],
      "metadata": {
        "colab": {
          "base_uri": "https://localhost:8080/"
        },
        "id": "DqLDG4orjwZY",
        "outputId": "9754f9a6-202b-4c9c-c51d-fd29c25231a5"
      },
      "execution_count": null,
      "outputs": [
        {
          "output_type": "stream",
          "name": "stdout",
          "text": [
            "Index(['lengthOfSepal', 'widthOfSepal', 'lengthOfPetal', 'widthOfPetal'], dtype='object')\n"
          ]
        }
      ]
    },
    {
      "cell_type": "markdown",
      "source": [
        "**f.Details of dataframe**\n"
      ],
      "metadata": {
        "id": "PNU5OY4zjx62"
      }
    },
    {
      "cell_type": "code",
      "source": [
        "#Python\n",
        "data = datasets.load_iris()\n",
        "# Convert to Pandas dataframe\n",
        "iris = pd.DataFrame(data.data, columns=data.feature_names)\n",
        "print(iris.info())"
      ],
      "metadata": {
        "colab": {
          "base_uri": "https://localhost:8080/"
        },
        "id": "GqrXfptgjz1f",
        "outputId": "f1bcb7e2-e656-497e-9dcb-9881635b7e88"
      },
      "execution_count": null,
      "outputs": [
        {
          "output_type": "stream",
          "name": "stdout",
          "text": [
            "<class 'pandas.core.frame.DataFrame'>\n",
            "RangeIndex: 150 entries, 0 to 149\n",
            "Data columns (total 4 columns):\n",
            " #   Column             Non-Null Count  Dtype  \n",
            "---  ------             --------------  -----  \n",
            " 0   sepal length (cm)  150 non-null    float64\n",
            " 1   sepal width (cm)   150 non-null    float64\n",
            " 2   petal length (cm)  150 non-null    float64\n",
            " 3   petal width (cm)   150 non-null    float64\n",
            "dtypes: float64(4)\n",
            "memory usage: 4.8 KB\n",
            "None\n"
          ]
        }
      ]
    },
    {
      "cell_type": "markdown",
      "source": [
        "**g. Subsetting dataframes**"
      ],
      "metadata": {
        "id": "A_zIItOlj1RD"
      }
    },
    {
      "cell_type": "code",
      "source": [
        "#Python\n",
        "# To select an entire row we use .iloc. The index can be used with the ':'. If \n",
        "# .iloc[start row: end row]. If start row is omitted then it implies the beginning of\n",
        "# data frame, if end row is omitted then it implies all rows till end\n",
        "#Python\n",
        "data = datasets.load_iris()\n",
        "# Convert to Pandas dataframe\n",
        "iris = pd.DataFrame(data.data, columns=data.feature_names)\n",
        "print(iris.iloc[3])\n",
        "print(iris[:5])\n",
        "# In python we can select columns by column name as follows\n",
        "print(iris['sepal length (cm)'][2:6])\n",
        "#If you want to select more than 2 columns then you must use the double '[[]]' since the \n",
        "# index is a list itself\n",
        "print(iris[['sepal length (cm)','sepal width (cm)']][4:7])"
      ],
      "metadata": {
        "id": "j0jfbQTXj5En",
        "colab": {
          "base_uri": "https://localhost:8080/"
        },
        "outputId": "2266a38f-d1db-4fcf-d384-c5251d840237"
      },
      "execution_count": null,
      "outputs": [
        {
          "output_type": "stream",
          "name": "stdout",
          "text": [
            "sepal length (cm)    4.6\n",
            "sepal width (cm)     3.1\n",
            "petal length (cm)    1.5\n",
            "petal width (cm)     0.2\n",
            "Name: 3, dtype: float64\n",
            "   sepal length (cm)  sepal width (cm)  petal length (cm)  petal width (cm)\n",
            "0                5.1               3.5                1.4               0.2\n",
            "1                4.9               3.0                1.4               0.2\n",
            "2                4.7               3.2                1.3               0.2\n",
            "3                4.6               3.1                1.5               0.2\n",
            "4                5.0               3.6                1.4               0.2\n",
            "2    4.7\n",
            "3    4.6\n",
            "4    5.0\n",
            "5    5.4\n",
            "Name: sepal length (cm), dtype: float64\n",
            "   sepal length (cm)  sepal width (cm)\n",
            "4                5.0               3.6\n",
            "5                5.4               3.9\n",
            "6                4.6               3.4\n"
          ]
        }
      ]
    },
    {
      "cell_type": "markdown",
      "source": [
        "**h. Computing Mean, Standard deviation, Max, Min and Median**"
      ],
      "metadata": {
        "id": "-n-WbE0gj9Cj"
      }
    },
    {
      "cell_type": "code",
      "source": [
        "#Python\n",
        "data = datasets.load_iris()\n",
        "# Convert to Pandas dataframe\n",
        "iris = pd.DataFrame(data.data, columns=data.feature_names)\n",
        "print(round(iris['sepal length (cm)'].mean(),2)) #Mean\n",
        "print(round(iris['sepal width (cm)'].std(),2))#Standard deviation\n",
        "print(round(iris['sepal length (cm)'].max(),2))\n",
        "print(round(iris['sepal length (cm)'].min(),2))\n",
        "print(round(iris['sepal length (cm)'].median(),2))\n"
      ],
      "metadata": {
        "colab": {
          "base_uri": "https://localhost:8080/"
        },
        "id": "Tj8nFTikkFsc",
        "outputId": "124a4d4f-99e8-4e19-c0f6-2b047fc8aeac"
      },
      "execution_count": null,
      "outputs": [
        {
          "output_type": "stream",
          "name": "stdout",
          "text": [
            "5.84\n",
            "0.44\n",
            "7.9\n",
            "4.3\n",
            "5.8\n"
          ]
        }
      ]
    },
    {
      "cell_type": "markdown",
      "source": [
        "## 3.4 Basic Plotting\n",
        "\n",
        "   * **Upload CSV file manually**\n",
        "\n"
      ],
      "metadata": {
        "id": "GR1YsD-yLWNe"
      }
    },
    {
      "cell_type": "code",
      "source": [
        "# Upload local file to Colab notebook\n",
        "from google.colab import files\n",
        "import pandas as pd\n",
        "uploaded = files.upload()"
      ],
      "metadata": {
        "id": "fn9dUpfjxNJY",
        "colab": {
          "resources": {
            "http://localhost:8080/nbextensions/google.colab/files.js": {
              "data": "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",
              "ok": true,
              "headers": [
                [
                  "content-type",
                  "application/javascript"
                ]
              ],
              "status": 200,
              "status_text": ""
            }
          },
          "base_uri": "https://localhost:8080/",
          "height": 73
        },
        "outputId": "e17986ca-c1b5-4d28-de84-1199d1cf3bf8"
      },
      "execution_count": null,
      "outputs": [
        {
          "output_type": "display_data",
          "data": {
            "text/plain": [
              "<IPython.core.display.HTML object>"
            ],
            "text/html": [
              "\n",
              "     <input type=\"file\" id=\"files-070a7cdf-15e3-4022-8f84-4b92e2acf1f3\" name=\"files[]\" multiple disabled\n",
              "        style=\"border:none\" />\n",
              "     <output id=\"result-070a7cdf-15e3-4022-8f84-4b92e2acf1f3\">\n",
              "      Upload widget is only available when the cell has been executed in the\n",
              "      current browser session. Please rerun this cell to enable.\n",
              "      </output>\n",
              "      <script src=\"/nbextensions/google.colab/files.js\"></script> "
            ]
          },
          "metadata": {}
        },
        {
          "output_type": "stream",
          "name": "stdout",
          "text": [
            "Saving cars.csv to cars.csv\n"
          ]
        }
      ]
    },
    {
      "cell_type": "markdown",
      "source": [
        "\n",
        " Note: It will prompt you to select a file. Click on “Choose Files” then select and upload the file. Wait for the file to be 100% uploaded. You should see the name of the file once Colab has uploaded it."
      ],
      "metadata": {
        "id": "hGQHmhHdPmU1"
      }
    },
    {
      "cell_type": "markdown",
      "source": [
        "  - **Matplotlib** is a plotting library.\n",
        "*  Plotting\n",
        "    + The most important function in matplotlib is plot, which allows you to plot 2D data.\n",
        "    + Here is a simple example.\n"
      ],
      "metadata": {
        "id": "iDWAJPwjO8uo"
      }
    },
    {
      "cell_type": "code",
      "source": [
        "# Plot the points using matplotlib\n",
        "# If you don't use Colab, you can read using read_csv() from Pandas\n",
        "import matplotlib.pyplot as plt\n",
        "import io\n",
        "cars= pd.read_csv(io.BytesIO(uploaded['cars.csv']))\n",
        "plt.scatter(cars['speed'],cars['dist'])\n",
        "plt.title('Scatter plot')\n",
        "plt.xlabel('speed')\n",
        "plt.ylabel('distance')\n",
        "plt.show()"
      ],
      "metadata": {
        "colab": {
          "base_uri": "https://localhost:8080/",
          "height": 295
        },
        "id": "3yY3IBg9LPhS",
        "outputId": "a587ad30-5538-434e-a8a0-2c9a2d6e3500"
      },
      "execution_count": null,
      "outputs": [
        {
          "output_type": "display_data",
          "data": {
            "text/plain": [
              "<Figure size 432x288 with 1 Axes>"
            ],
            "image/png": "[encoded data removed]"
          },
          "metadata": {
            "needs_background": "light"
          }
        }
      ]
    },
    {
      "cell_type": "markdown",
      "source": [
        "## 3.5 Probability Distributions\n",
        "Types of distributions: norm, binom, beta, cauchy, chisq, gamma, geom, hyper, lnorm, logis, nbinom, t, unif, weibull, wilcox, etc.\n",
        "\n",
        "Four prefixes:\n",
        "\n",
        " * ‘pdf’ for probability density function (PDF)\n",
        " \n",
        " * ‘pmf’ for probability mass function (PMF)\n",
        " * ‘cdf’ for distribution (CDF)\n",
        "\n",
        " * ‘ppf’ for quantile (Percentiles)  \n",
        "\n",
        " * ‘rvs’ for random generation (Simulation)"
      ],
      "metadata": {
        "id": "PnscMR1VUitA"
      }
    },
    {
      "cell_type": "code",
      "source": [
        "# Python: random seed; use rondom function.\n",
        "# If the replication needs, it's better to read in the data\n",
        "import random \n",
        "random.seed(1234)            "
      ],
      "metadata": {
        "id": "ol66uFEENQ10"
      },
      "execution_count": null,
      "outputs": []
    },
    {
      "cell_type": "markdown",
      "source": [
        "Note: random number sequences in Python and R are not the same even using the same random seed. To create same random number sequence in Python and R, you can use a C-based program called SyncRNG: https://github.com/GjjvdBurg/SyncRNG\n",
        "\n"
      ],
      "metadata": {
        "id": "WeSZ05xsL5PK"
      }
    },
    {
      "cell_type": "code",
      "source": [
        "# call scipy.stats library\n",
        "# import binom distribution\n",
        "# round 5 decimals \n",
        "from scipy.stats import binom,norm\n",
        "x, n, p=4,10,0.5\n",
        "round(binom.pmf(x, n, p),5)"
      ],
      "metadata": {
        "colab": {
          "base_uri": "https://localhost:8080/"
        },
        "id": "LvonAE_eCmjB",
        "outputId": "e771b670-56be-4991-f143-5e07a9b627e1"
      },
      "execution_count": null,
      "outputs": [
        {
          "output_type": "execute_result",
          "data": {
            "text/plain": [
              "0.20508"
            ]
          },
          "metadata": {},
          "execution_count": 72
        }
      ]
    },
    {
      "cell_type": "code",
      "source": [
        "round(norm.cdf(1.86),5)"
      ],
      "metadata": {
        "colab": {
          "base_uri": "https://localhost:8080/"
        },
        "id": "X8UrURdvHXVd",
        "outputId": "bc67732f-bce6-40ea-9d90-c94a744f12f5"
      },
      "execution_count": null,
      "outputs": [
        {
          "output_type": "execute_result",
          "data": {
            "text/plain": [
              "0.96856"
            ]
          },
          "metadata": {},
          "execution_count": 73
        }
      ]
    },
    {
      "cell_type": "code",
      "source": [
        "round(norm.ppf(0.975),5)"
      ],
      "metadata": {
        "colab": {
          "base_uri": "https://localhost:8080/"
        },
        "id": "cSybFeBWHFb5",
        "outputId": "260c9a5c-df95-4888-b42d-08716824e1b1"
      },
      "execution_count": null,
      "outputs": [
        {
          "output_type": "execute_result",
          "data": {
            "text/plain": [
              "1.95996"
            ]
          },
          "metadata": {},
          "execution_count": 74
        }
      ]
    },
    {
      "cell_type": "code",
      "source": [
        "norm.rvs(size=10)"
      ],
      "metadata": {
        "colab": {
          "base_uri": "https://localhost:8080/"
        },
        "id": "u0kXiEBtHkEz",
        "outputId": "24e4b5b6-886a-4683-a270-02858e4d7c63"
      },
      "execution_count": null,
      "outputs": [
        {
          "output_type": "execute_result",
          "data": {
            "text/plain": [
              "array([-0.69759579, -0.33901819, -0.96185304, -0.94154321,  0.50245318,\n",
              "       -0.03534908, -0.52661426,  0.1507992 , -1.21036653,  0.07141479])"
            ]
          },
          "metadata": {},
          "execution_count": 75
        }
      ]
    },
    {
      "cell_type": "code",
      "source": [
        "# generate random numbers from N(100,20)\n",
        "# The location (loc) keyword specifies the mean. The scale (scale) keyword specifies the standard deviation.\n",
        "data_normal= norm.rvs(size=10,loc=100,scale=20)\n"
      ],
      "metadata": {
        "id": "DbcSbZtdGYAe"
      },
      "execution_count": null,
      "outputs": []
    },
    {
      "cell_type": "code",
      "source": [
        "%%shell\n",
        "jupyter nbconvert --to html ///content/1_B_Introduction_to_Python.ipynb"
      ],
      "metadata": {
        "id": "NKw24HEvicMW",
        "colab": {
          "base_uri": "https://localhost:8080/"
        },
        "outputId": "24151ecb-9a97-4f79-d183-083ac83d1b41"
      },
      "execution_count": null,
      "outputs": [
        {
          "output_type": "stream",
          "name": "stdout",
          "text": [
            "[NbConvertApp] Converting notebook ///content/1_B_Introduction_to_Python.ipynb to html\n",
            "[NbConvertApp] Writing 358323 bytes to ///content/1_B_Introduction_to_Python.html\n"
          ]
        },
        {
          "output_type": "execute_result",
          "data": {
            "text/plain": [
              ""
            ]
          },
          "metadata": {},
          "execution_count": 79
        }
      ]
    }
  ],
  "metadata": {
    "colab": {
      "name": "1.B Introduction to Python",
      "provenance": [],
      "collapsed_sections": []
    },
    "kernelspec": {
      "display_name": "Python 3",
      "name": "python3"
    },
    "language_info": {
      "name": "python"
    }
  },
  "nbformat": 4,
  "nbformat_minor": 0
}