{
  "cells": [
    {
      "cell_type": "markdown",
      "source": [
        "# **Advanced Techniques in Python**\n",
        "\n",
        "Maintainer: Zhaohu(Jonathan) Fan  contact him (fanzh@ucmail.uc.edu)\n",
        "\n",
        "Note: This lab note is still WIP, let us know if you encounter bugs or issues.\n",
        "\n",
        "## 1.1 Functions\n",
        "## 1.2 Loop\n",
        "  * 1.2.1 Using  <code>for</code> loop\n",
        "  * 1.2.1 Using  <code>while </code>loop\n",
        "\n",
        "\n",
        "\n",
        "#### *Colab Notebook [Open in Colab](https://colab.research.google.com/drive/1fGrHpgY-ru7bnPfnFxz96ExrjLlBOimw?usp=sharing)*\n",
        "#### *Useful information about [(Advanced Techniques in R)](https://yanyudm.github.io/Data-Mining-R/lecture/1.C_IntroFuncLoop.html)*\n",
        "\n",
        "\n",
        "\n"
      ],
      "metadata": {
        "id": "t1ZkbNmmdLKT"
      }
    },
    {
      "cell_type": "markdown",
      "source": [
        "# 1.1 Functions\n",
        "Python functions are defined using the `def` keyword. For example:"
      ],
      "metadata": {
        "id": "MN_tmcO6aLpn"
      }
    },
    {
      "cell_type": "code",
      "source": [
        "def abs_val(x):\n",
        "    if x > 0:\n",
        "        return (x)\n",
        "    elif x < 0:\n",
        "        return (-x)\n",
        "    else:\n",
        "        return 'zero'\n",
        "for x in [-5, 0, 5]:\n",
        "    print(abs_val(x))"
      ],
      "metadata": {
        "id": "5S9BK-BsanEx",
        "colab": {
          "base_uri": "https://localhost:8080/"
        },
        "outputId": "7116cc9b-f522-4355-e47f-083a61cdb0ca"
      },
      "execution_count": null,
      "outputs": [
        {
          "output_type": "stream",
          "name": "stdout",
          "text": [
            "5\n",
            "zero\n",
            "5\n"
          ]
        }
      ]
    },
    {
      "cell_type": "markdown",
      "source": [
        "A truncation function \n"
      ],
      "metadata": {
        "id": "KF4K0y7ZxxZL"
      }
    },
    {
      "cell_type": "code",
      "source": [
        "def mytruncation(v, lower, upper):\n",
        "    if v < lower:\n",
        "        return (lower)\n",
        "    elif v > upper:\n",
        "        return (upper)\n",
        "    else:\n",
        "        return (v)\n",
        "for v in [1, 2, 3,4,5,6,7,8,9]:\n",
        "    print(mytruncation(v,lower=3,upper=7))"
      ],
      "metadata": {
        "colab": {
          "base_uri": "https://localhost:8080/"
        },
        "id": "8RL4pp_xxZVA",
        "outputId": "4cd87ff1-6782-453a-d4da-8a6d4a718a0a"
      },
      "execution_count": null,
      "outputs": [
        {
          "output_type": "stream",
          "name": "stdout",
          "text": [
            "3\n",
            "3\n",
            "3\n",
            "4\n",
            "5\n",
            "6\n",
            "7\n",
            "7\n",
            "7\n"
          ]
        }
      ]
    },
    {
      "cell_type": "markdown",
      "source": [
        "# 1.2 Loop\n",
        "\n",
        "There are two ways to write a loop: while and for loop. Loop is very useful to do iterative and duplicated computing.\n",
        "\n",
        "For example: calculate 1+1/2+1/3+...+1/100."
      ],
      "metadata": {
        "id": "PnscMR1VUitA"
      }
    },
    {
      "cell_type": "markdown",
      "source": [
        "## What is <code>while</code> loop?"
      ],
      "metadata": {
        "id": "bVNd6f_nUWzR"
      }
    },
    {
      "cell_type": "markdown",
      "source": [
        "The <code>while</code> loop exists as a tool for repeated execution based on a condition. The code block will keep being executed until the given logical condition returns a **False** boolean value.\n"
      ],
      "metadata": {
        "id": "b-vGZ2tqXV1r"
      }
    },
    {
      "cell_type": "code",
      "source": [
        "i = 1\n",
        "x = 1\n",
        "\n",
        "while(i<100):\n",
        "    i = i + 1\n",
        "    x = x+1/i\n",
        "\n",
        "print(round(x,6))"
      ],
      "metadata": {
        "id": "_efeBOxnUrF9",
        "colab": {
          "base_uri": "https://localhost:8080/"
        },
        "outputId": "d507e09c-f1c5-46c1-c11b-dd3ed19c98d0"
      },
      "execution_count": null,
      "outputs": [
        {
          "output_type": "stream",
          "name": "stdout",
          "text": [
            "5.187378\n"
          ]
        }
      ]
    },
    {
      "cell_type": "markdown",
      "source": [
        "\n",
        "## What is <code>for</code> loop?"
      ],
      "metadata": {
        "id": "yPPWbbeST6gy"
      }
    },
    {
      "cell_type": "markdown",
      "source": [
        "Python <code>for</code> Loops\n",
        "\n",
        "A <code>for</code> loop is used <code>for</code>iterating over a sequence (that is either a list, a tuple, a dictionary, a set, or a string).\n",
        "\n",
        "\n",
        "\n",
        "With the <code>for</code> loop we can execute a set of statements, once for each item in a list, tuple, set etc."
      ],
      "metadata": {
        "id": "o4lob6dPT_Tp"
      }
    },
    {
      "cell_type": "code",
      "source": [
        "x = 1\n",
        "for i in range(2, 101):    # range(start, stop, step)\n",
        "    x = x+1/i\n",
        "print(round(x,6))"
      ],
      "metadata": {
        "id": "uPzCYRG2Vsp9",
        "colab": {
          "base_uri": "https://localhost:8080/"
        },
        "outputId": "b8a3926a-7f4d-4494-9769-b81ba22602a9"
      },
      "execution_count": null,
      "outputs": [
        {
          "output_type": "stream",
          "name": "stdout",
          "text": [
            "5.187378\n"
          ]
        }
      ]
    },
    {
      "cell_type": "code",
      "source": [
        "%%shell\n",
        "jupyter nbconvert --to html ///content/1_C_Advanced_techniques_function_and_loop.ipynb"
      ],
      "metadata": {
        "colab": {
          "base_uri": "https://localhost:8080/"
        },
        "id": "OYNJroi9jRvP",
        "outputId": "ab871b43-f51a-4889-86b6-53a05ca30a23"
      },
      "execution_count": null,
      "outputs": [
        {
          "output_type": "stream",
          "name": "stdout",
          "text": [
            "[NbConvertApp] Converting notebook ///content/1_C_Advanced_techniques_function_and_loop.ipynb to html\n",
            "[NbConvertApp] Writing 282686 bytes to ///content/1_C_Advanced_techniques_function_and_loop.html\n"
          ]
        },
        {
          "output_type": "execute_result",
          "data": {
            "text/plain": [
              ""
            ]
          },
          "metadata": {},
          "execution_count": 5
        }
      ]
    }
  ],
  "metadata": {
    "colab": {
      "name": "1.C Advanced techniques: function and loop",
      "provenance": [],
      "collapsed_sections": []
    },
    "kernelspec": {
      "display_name": "Python 3",
      "name": "python3"
    },
    "language_info": {
      "name": "python"
    }
  },
  "nbformat": 4,
  "nbformat_minor": 0
}