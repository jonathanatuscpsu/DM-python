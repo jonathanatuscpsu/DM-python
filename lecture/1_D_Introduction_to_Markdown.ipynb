{
  "cells": [
    {
      "cell_type": "markdown",
      "source": [
        "# **Introduction to Markdown**\n",
        "\n",
        "Maintainer: Zhaohu(Jonathan) Fan  contact him (fanzh@ucmail.uc.edu)\n",
        "\n",
        "Note: This lab note is still WIP, let us know if you encounter bugs or issues.\n",
        "\n",
        "## 1.1 What is Markdown?\n",
        "## 1.2 Differences between Colab Markdown and other Markdown dialects\n",
        "## 1.3 Markdown Syntax: Simplest way of writing\n",
        "## 1.4 How to communicate with Python codes?\n",
        "\n",
        "\n",
        "\n",
        "#### *Colab Notebook [Open in Colab](https://colab.research.google.com/drive/1jZregySxiTFaZw6qcBj-5VZU5X7PvbsZ?usp=sharing)*\n",
        "#### *Useful information about [Introduction to RMarkdown](https://yanyudm.github.io/Data-Mining-R/lecture/1.D_IntroMarkdown.html)*\n",
        "\n",
        "\n",
        "\n"
      ],
      "metadata": {
        "id": "t1ZkbNmmdLKT"
      }
    },
    {
      "cell_type": "markdown",
      "source": [
        "#1.1 What is Markdown?\n",
        "\n",
        "Colab has two types of cells: **text** and **code**. Text cells are formatted using a simple markup language called Markdown.\n",
        "\n",
        "To see the Markdown source, double-click a text cell, showing both the Markdown source and the rendered version. Above the Markdown source there is a toolbar to assist editing.\n"
      ],
      "metadata": {
        "id": "TZ6PwTNjCA2i"
      }
    },
    {
      "cell_type": "markdown",
      "source": [
        "### **Text cells**\n",
        "This is a **text cell**. You can **double-click** to edit this cell. Text cells\n",
        "use markdown syntax. To learn more, see our [markdown\n",
        "guide](/notebooks/markdown_guide.ipynb).\n"
      ],
      "metadata": {
        "id": "BZ6uLTdsGYFL"
      }
    },
    {
      "cell_type": "markdown",
      "source": [
        "### **Code cells**\n",
        "Below is a **code cell**. Once the toolbar button indicates CONNECTED, click in the cell to select it and execute the contents in the following ways:\n",
        "\n",
        "* Click the **Play icon** in the left gutter of the cell;\n",
        "* Type **Cmd/Ctrl+Enter** to run the cell in place;\n",
        "* Type **Shift+Enter** to run the cell and move focus to the next cell (adding one if none exists); or\n",
        "* Type **Alt+Enter** to run the cell and insert a new code cell immediately below it.\n",
        "\n",
        "**Working with python**\n",
        "\n",
        "Colab is built on top of [Jupyter Notebook](https://jupyter.org/). Below are some examples of convenience functions provided."
      ],
      "metadata": {
        "id": "x024f_FWGQGs"
      }
    },
    {
      "cell_type": "code",
      "source": [
        "a = 10\n",
        "a"
      ],
      "metadata": {
        "colab": {
          "base_uri": "https://localhost:8080/"
        },
        "id": "ejoLbeHEGUyn",
        "outputId": "30530aee-db71-414a-c132-a041db05bf31"
      },
      "execution_count": null,
      "outputs": [
        {
          "output_type": "execute_result",
          "data": {
            "text/plain": [
              "10"
            ]
          },
          "metadata": {},
          "execution_count": 17
        }
      ]
    },
    {
      "cell_type": "markdown",
      "source": [
        "##1.2 **Differences between Colab Markdown and other Markdown dialects**\n",
        "\n",
        "Colab uses [marked.js](https://github.com/chjj/marked) and so is similar but not quite identical to the Markdown used by Jupyter and Github.\n",
        "\n",
        "Colab supports (MathJax) $\\LaTeX$ equations like Jupyter, but does not allow HTML tags in the Markdown. Just place the statement\n",
        "within a pair of **\\$** signs. For example \n",
        "\n"
      ],
      "metadata": {
        "id": "Lru82I4LEy0F"
      }
    },
    {
      "cell_type": "markdown",
      "source": [
        "\n",
        "Equations:\n",
        "\n",
        "```markdown\n",
        "$y=x^2$\n",
        "\n",
        "$e^{i\\pi} + 1 = 0$\n",
        "\n",
        "$e^x=\\sum_{i=0}^\\infty \\frac{1}{i!}x^i$\n",
        "\n",
        "$\\frac{n!}{k!(n-k)!} = {n \\choose k}$\n",
        "\n",
        "$A_{m,n} =\n",
        " \\begin{pmatrix}\n",
        "  a_{1,1} & a_{1,2} & \\cdots & a_{1,n} \\\\\n",
        "  a_{2,1} & a_{2,2} & \\cdots & a_{2,n} \\\\\n",
        "  \\vdots  & \\vdots  & \\ddots & \\vdots  \\\\\n",
        "  a_{m,1} & a_{m,2} & \\cdots & a_{m,n}\n",
        " \\end{pmatrix}$\n",
        "```\n",
        "\n",
        "$y=x^2$\n",
        "\n",
        "$e^{i\\pi} + 1 = 0$\n",
        "\n",
        "$e^x=\\sum_{i=0}^\\infty \\frac{1}{i!}x^i$\n",
        "\n",
        "$\\frac{n!}{k!(n-k)!} = {n \\choose k}$\n",
        "\n",
        "$A_{m,n} =\n",
        " \\begin{pmatrix}\n",
        "  a_{1,1} & a_{1,2} & \\cdots & a_{1,n} \\\\\n",
        "  a_{2,1} & a_{2,2} & \\cdots & a_{2,n} \\\\\n",
        "  \\vdots  & \\vdots  & \\ddots & \\vdots  \\\\\n",
        "  a_{m,1} & a_{m,2} & \\cdots & a_{m,n}\n",
        " \\end{pmatrix}$\n",
        "\n",
        "\n",
        "\n",
        "\n",
        "\n",
        "\n",
        "\n"
      ],
      "metadata": {
        "id": "ZmPCOuobCPL2"
      }
    },
    {
      "cell_type": "markdown",
      "source": [
        "##1.3 **Markdown Syntax: Simplest way of writing**"
      ],
      "metadata": {
        "id": "28U55zreHdiI"
      }
    },
    {
      "cell_type": "markdown",
      "source": [
        "Markdown | Preview\n",
        "--- | ---\n",
        "`**bold text**` | **bold text**\n",
        "`*italicized text*` or `_italicized text_` | *italicized text*\n",
        "`` `Monospace` `` | `Monospace`\n",
        "`~~strikethrough~~` | ~~strikethrough~~\n",
        "`[A link](https://www.google.com)` | [A link](https://www.google.com)\n",
        "`![An image](https://www.google.com/images/rss.png)` | ![An image](https://www.google.com/images/rss.png)\n",
        "\n",
        "\n",
        "Headings are rendered as titles.\n",
        "\n",
        "```markdown\n",
        "# Section 1\n",
        "# Section 2\n",
        "## Sub-section under Section 2\n",
        "### Sub-section under the sub-section under Section 2\n",
        "# Section 3\n",
        "```\n",
        "\n",
        "The table of contents, available on the left side of Colab, is populated using at most one section title from each text cell.\n",
        "\n",
        "---\n",
        "\n",
        "```markdown\n",
        ">One level of indentation\n",
        "```\n",
        "\n",
        ">One level of indentation\n",
        "\n",
        "\n",
        "```markdown\n",
        ">>Two levels of indentation\n",
        "```\n",
        "\n",
        ">>Two levels of indentation\n",
        "\n",
        "Ordered lists:\n",
        "```markdown\n",
        "1. One\n",
        "1. Two\n",
        "1. Three\n",
        "```\n",
        "1. One\n",
        "1. Two\n",
        "1. Three\n",
        "\n",
        "---\n",
        "\n",
        "Unordered lists:\n",
        "```markdown\n",
        "* One\n",
        "* Two\n",
        "* Three\n",
        "```\n",
        "* One\n",
        "* Two\n",
        "* Three\n",
        "\n",
        "\n",
        " ---\n",
        "\n",
        "Tables:\n",
        "```markdown\n",
        "First column name  | Second column name \n",
        "-------------------|------------------\n",
        "Row 1, Col 1       | Row 1, Col 2 \n",
        "Row 2, Col 1       | Row 2, Col 2 \n",
        "\n",
        "```\n",
        "\n",
        "First column name  | Second column name \n",
        "-------------------|------------------\n",
        "Row 1, Col 1       | Row 1, Col 2 \n",
        "Row 2, Col 1       | Row 2, Col 2 \n",
        "\n",
        "\n"
      ],
      "metadata": {
        "id": "VqCl-IiyHZAd"
      }
    },
    {
      "cell_type": "markdown",
      "source": [
        "**Magics**\n",
        "\n",
        "Colab shares the notion of magics from Jupyter. There are shorthand annotations that change how a cell's text is executed. To learn more, see [Jupyter's magics page](http://nbviewer.jupyter.org/github/ipython/ipython/blob/1.x/examples/notebooks/Cell%20Magics.ipynb). \n"
      ],
      "metadata": {
        "id": "FD0O3G41FITO"
      }
    },
    {
      "cell_type": "code",
      "source": [
        "%%html\n",
        "<marquee style='width: 30%; color: blue;'><b>Welcome to BANA 7046!</b></marquee>"
      ],
      "metadata": {
        "colab": {
          "base_uri": "https://localhost:8080/",
          "height": 39
        },
        "id": "dSQ2MHStFoXX",
        "outputId": "47259c40-45a0-4090-cbde-4e791c55e5ba"
      },
      "execution_count": null,
      "outputs": [
        {
          "output_type": "display_data",
          "data": {
            "text/plain": [
              "<IPython.core.display.HTML object>"
            ],
            "text/html": [
              "<marquee style='width: 30%; color: blue;'><b>Welcome to BANA 7046!</b></marquee>"
            ]
          },
          "metadata": {}
        }
      ]
    },
    {
      "cell_type": "markdown",
      "source": [
        "## 1.4 How to communicate with Python codes?"
      ],
      "metadata": {
        "id": "wLodyqMIImhj"
      }
    },
    {
      "cell_type": "markdown",
      "source": [
        "**a. Size**\n",
        "\n",
        "For Python use .shape"
      ],
      "metadata": {
        "id": "guIqbnps4TnV"
      }
    },
    {
      "cell_type": "code",
      "source": [
        "#Python - size\n",
        "import sklearn as sklearn\n",
        "import pandas as pd\n",
        "from sklearn import datasets\n",
        "data = datasets.load_iris()\n",
        "# Convert to Pandas dataframe\n",
        "iris = pd.DataFrame(data.data, columns=data.feature_names)\n",
        "iris.shape"
      ],
      "metadata": {
        "colab": {
          "base_uri": "https://localhost:8080/"
        },
        "id": "HU1ggNz62lv1",
        "outputId": "37e7d352-bae0-4f67-f192-27a1a88e2ffb"
      },
      "execution_count": null,
      "outputs": [
        {
          "output_type": "execute_result",
          "data": {
            "text/plain": [
              "(150, 4)"
            ]
          },
          "metadata": {},
          "execution_count": 1
        }
      ]
    },
    {
      "cell_type": "markdown",
      "source": [
        "**b.Histogram**\n",
        "\n",
        "Histogram for Sepal Length\n",
        "\n",
        "For Python use .hist"
      ],
      "metadata": {
        "id": "SRtPpF604XSP"
      }
    },
    {
      "cell_type": "code",
      "source": [
        "import numpy as np\n",
        "import pandas as pd\n",
        "import matplotlib.pyplot as plt"
      ],
      "metadata": {
        "id": "rbeVqq444ypl"
      },
      "execution_count": null,
      "outputs": []
    },
    {
      "cell_type": "code",
      "source": [
        "plt.figure(figsize = (10, 7))\n",
        "x = iris['sepal length (cm)']\n",
        "plt.hist(x, bins = 20, color = \"green\")\n",
        "plt.title(\"Sepal Length in cm\")\n",
        "plt.xlabel(\"Sepal_Length_cm\")\n",
        "plt.ylabel(\"Count\")\n"
      ],
      "metadata": {
        "colab": {
          "base_uri": "https://localhost:8080/",
          "height": 476
        },
        "id": "Gce7uKwO6Dyc",
        "outputId": "546b0fc4-f336-4c7f-9354-ba1050f378ae"
      },
      "execution_count": null,
      "outputs": [
        {
          "output_type": "execute_result",
          "data": {
            "text/plain": [
              "Text(0, 0.5, 'Count')"
            ]
          },
          "metadata": {},
          "execution_count": 13
        },
        {
          "output_type": "display_data",
          "data": {
            "text/plain": [
              "<Figure size 720x504 with 1 Axes>"
            ],
            "image/png": "[encoded data removed]"
          },
          "metadata": {
            "needs_background": "light"
          }
        }
      ]
    },
    {
      "cell_type": "markdown",
      "source": [
        "**c.Box Plot for Iris Data**\n",
        "\n",
        "For Python use .boxplot"
      ],
      "metadata": {
        "id": "2ShidUKmBAqK"
      }
    },
    {
      "cell_type": "code",
      "source": [
        "plt.figure(figsize = (10, 7))\n",
        "iris.boxplot()"
      ],
      "metadata": {
        "colab": {
          "base_uri": "https://localhost:8080/",
          "height": 445
        },
        "id": "sP6sz1WWA-iC",
        "outputId": "ed11fb32-f9da-4a62-8b63-e67c32f72815"
      },
      "execution_count": null,
      "outputs": [
        {
          "output_type": "execute_result",
          "data": {
            "text/plain": [
              "<matplotlib.axes._subplots.AxesSubplot at 0x7f13eb89f7d0>"
            ]
          },
          "metadata": {},
          "execution_count": 14
        },
        {
          "output_type": "display_data",
          "data": {
            "text/plain": [
              "<Figure size 720x504 with 1 Axes>"
            ],
            "image/png": "[encoded data removed]"
          },
          "metadata": {
            "needs_background": "light"
          }
        }
      ]
    },
    {
      "cell_type": "code",
      "source": [
        "%%shell\n",
        "jupyter nbconvert --to html ///content/1_D_Introduction_to_Markdown.ipynb"
      ],
      "metadata": {
        "colab": {
          "base_uri": "https://localhost:8080/"
        },
        "id": "jGmmfiSFMsAj",
        "outputId": "c522ad45-e770-4a15-bf9a-6539a41865f5"
      },
      "execution_count": null,
      "outputs": [
        {
          "output_type": "stream",
          "name": "stdout",
          "text": [
            "[NbConvertApp] Converting notebook ///content/1_D_Introduction_to_Markdown.ipynb to html\n",
            "[NbConvertApp] Writing 328230 bytes to ///content/1_D_Introduction_to_Markdown.html\n"
          ]
        },
        {
          "output_type": "execute_result",
          "data": {
            "text/plain": [
              ""
            ]
          },
          "metadata": {},
          "execution_count": 19
        }
      ]
    }
  ],
  "metadata": {
    "colab": {
      "name": "1.D Introduction to Markdown",
      "provenance": [],
      "collapsed_sections": []
    },
    "kernelspec": {
      "display_name": "Python 3",
      "name": "python3"
    },
    "language_info": {
      "name": "python"
    }
  },
  "nbformat": 4,
  "nbformat_minor": 0
}